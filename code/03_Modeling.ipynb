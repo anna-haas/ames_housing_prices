{
 "cells": [
  {
   "cell_type": "markdown",
   "metadata": {},
   "source": [
    "# Ames Housing Data and Kaggle Challenge\n",
    "## Modeling\n",
    "***"
   ]
  },
  {
   "cell_type": "markdown",
   "metadata": {},
   "source": [
    "*Import libraries and read in data:*"
   ]
  },
  {
   "cell_type": "code",
   "execution_count": 1,
   "metadata": {},
   "outputs": [],
   "source": [
    "# Imports:\n",
    "\n",
    "import pandas as pd\n",
    "import numpy as np\n",
    "\n",
    "import seaborn as sns\n",
    "import matplotlib.pyplot as plt\n",
    "\n",
    "%matplotlib inline\n",
    "\n",
    "from sklearn.linear_model import LinearRegression, LassoCV, RidgeCV\n",
    "from sklearn.preprocessing import PowerTransformer, StandardScaler\n",
    "from sklearn.model_selection import train_test_split, cross_val_score, cross_val_predict\n",
    "from sklearn.metrics import r2_score, mean_squared_error"
   ]
  },
  {
   "cell_type": "code",
   "execution_count": 2,
   "metadata": {},
   "outputs": [],
   "source": [
    "# Read in the train and test data files and replaced all NaNs with 'NA'\n",
    "train = pd.read_csv('../datasets/train_clean_dummies.csv', na_filter = False,)\n",
    "test  = pd.read_csv('../datasets/test_clean_dummies.csv', na_filter = False)"
   ]
  },
  {
   "cell_type": "code",
   "execution_count": 3,
   "metadata": {},
   "outputs": [
    {
     "data": {
      "text/plain": [
       "0"
      ]
     },
     "execution_count": 3,
     "metadata": {},
     "output_type": "execute_result"
    }
   ],
   "source": [
    "# Verifying all nulls are gone\n",
    "train.isnull().sum().sum()"
   ]
  },
  {
   "cell_type": "code",
   "execution_count": 4,
   "metadata": {},
   "outputs": [],
   "source": [
    "# drop 'Unnamed: 0' column that was created when we saved the cleaned dataset (old index)\n",
    "train.drop(columns = 'Unnamed: 0', inplace = True)\n",
    "test.drop(columns = 'Unnamed: 0', inplace = True)"
   ]
  },
  {
   "cell_type": "code",
   "execution_count": 5,
   "metadata": {},
   "outputs": [
    {
     "name": "stdout",
     "output_type": "stream",
     "text": [
      "Train Shape:  (2022, 88)\n",
      "Test Shape:  (879, 87)\n"
     ]
    }
   ],
   "source": [
    "# Get shape of both - train has one more column than test as expected\n",
    "print('Train Shape: ', train.shape)\n",
    "print('Test Shape: ', test.shape)"
   ]
  },
  {
   "cell_type": "markdown",
   "metadata": {},
   "source": [
    "### Baseline Score (Mean)\n",
    "***"
   ]
  },
  {
   "cell_type": "code",
   "execution_count": 6,
   "metadata": {},
   "outputs": [],
   "source": [
    "# Reference: notes from feature-selection notebook by Sam Stack\n",
    "\n",
    "# Baseline Score with Median of SalePrice as prediction\n",
    "y = train['SalePrice']             # target\n",
    "y_bar = [np.mean(y) for _ in y]    # predictions (mean)"
   ]
  },
  {
   "cell_type": "code",
   "execution_count": 7,
   "metadata": {},
   "outputs": [
    {
     "name": "stdout",
     "output_type": "stream",
     "text": [
      "RMSE:  78985.0916950185\n",
      "r2:  0.0\n"
     ]
    }
   ],
   "source": [
    "print('RMSE: ', np.sqrt(mean_squared_error(y, y_bar)))\n",
    "print('r2: ', r2_score(y, y_bar))"
   ]
  },
  {
   "cell_type": "markdown",
   "metadata": {},
   "source": [
    "### Model Prep\n",
    "***"
   ]
  },
  {
   "cell_type": "code",
   "execution_count": 8,
   "metadata": {
    "scrolled": false
   },
   "outputs": [
    {
     "data": {
      "text/plain": [
       "SalePrice                          1.000000\n",
       "Total Quality * Above Ground SF    0.885021\n",
       "Total Quality                      0.829114\n",
       "Overall Qual                       0.802094\n",
       "Above Ground SF                    0.728805\n",
       "Gr Liv Area                        0.719911\n",
       "Exter Qual                         0.714292\n",
       "Neighborhood Quality               0.713592\n",
       "Kitchen Qual                       0.692597\n",
       "Total Bsmt SF                      0.664496\n",
       "Garage Area                        0.657729\n",
       "1st Flr SF                         0.650123\n",
       "Garage Cars                        0.649914\n",
       "Baths                              0.648360\n",
       "Bsmt Qual                          0.609237\n",
       "Home Age                           0.572272\n",
       "Year Remod/Add                     0.549242\n",
       "Fireplace Qu                       0.540010\n",
       "Full Bath                          0.538497\n",
       "Foundation_PConc                   0.529992\n",
       "Finished Basement                  0.522911\n",
       "Mas Vnr Area                       0.518978\n",
       "TotRms AbvGrd                      0.512108\n",
       "Fireplaces                         0.474398\n",
       "Heating QC                         0.457261\n",
       "Home Age^2                         0.454005\n",
       "Neighborhood_NridgHt               0.446793\n",
       "BsmtFin SF 1                       0.444545\n",
       "Outdoor SF                         0.436541\n",
       "Garage Finish_Unf                  0.431918\n",
       "Garage Finish_Fin                  0.423200\n",
       "Mas Vnr Type_None                  0.420360\n",
       "Garage Age                         0.405028\n",
       "Bsmt Exposure_Gd                   0.377454\n",
       "Garage Type_Detchd                 0.368992\n",
       "MS SubClass_60                     0.358667\n",
       "Foundation_CBlock                  0.358600\n",
       "Garage Type_Attchd                 0.356382\n",
       "Sale Type_New                      0.355493\n",
       "Lot Area                           0.355030\n",
       "Name: SalePrice, dtype: float64"
      ]
     },
     "execution_count": 8,
     "metadata": {},
     "output_type": "execute_result"
    }
   ],
   "source": [
    "# Select features to use\n",
    "abs(train.corr()['SalePrice']).sort_values(ascending=False).head(40)"
   ]
  },
  {
   "cell_type": "markdown",
   "metadata": {},
   "source": [
    "Good features (from Polynomial Feature feature selection process):\n",
    "- Neighborhood Quality * Above Ground SF (interaction term already created)\n",
    "- Neighborhood Quality * Bsmt Exposure_Gd \n",
    "- Neighborhood Quality * BsmtFin SF 1\n",
    "- Full Bath * MS SubClass_60\n",
    "- BsmtFin SF 1\n",
    "- Overall Qual * Kitchn Qual ^2 (interaction term already created, but not yet squared)"
   ]
  },
  {
   "cell_type": "code",
   "execution_count": 9,
   "metadata": {},
   "outputs": [],
   "source": [
    "# Add some new features from feature selection process\n",
    "# train['Neighborhood Quality * Bsmt Exposure_Gd'] = train['Neighborhood Quality'] * train['Bsmt Exposure_Gd']\n",
    "# train['Neighborhood Quality * BsmtFin SF 1'] = train['Neighborhood Quality'] * train['BsmtFin SF 1']\n",
    "# train['Full Bath * MS SubClass_60'] = train['Full Bath'] * train['MS SubClass_60']\n",
    "# train['Overall Qual * Kitchen Qual^2'] = train['Overall Qual * Kitchen Qual'] ** 2"
   ]
  },
  {
   "cell_type": "markdown",
   "metadata": {},
   "source": [
    "### Initial Model Fitting\n",
    "***"
   ]
  },
  {
   "cell_type": "code",
   "execution_count": 10,
   "metadata": {},
   "outputs": [],
   "source": [
    "# Start with a model that contains the top correlated features with some of the polynomial features\n",
    "# I will then make the model simpler\n",
    "top_features = abs(train.corr()['SalePrice']).sort_values(ascending=False).head(70).keys()\n",
    "features = [col for col in top_features if col != 'SalePrice']\n",
    "# for col in ['Neighborhood Quality * Bsmt Exposure_Gd', 'Neighborhood Quality * BsmtFin SF 1', \n",
    "#                 'Full Bath * MS SubClass_60', 'Overall Qual * Kitchen Qual^2', 'Total Quality']:\n",
    "#    features.append(col)"
   ]
  },
  {
   "cell_type": "code",
   "execution_count": 11,
   "metadata": {},
   "outputs": [],
   "source": [
    "# Create X and y variables\n",
    "X = train[features]\n",
    "y = train['SalePrice']"
   ]
  },
  {
   "cell_type": "code",
   "execution_count": 12,
   "metadata": {},
   "outputs": [],
   "source": [
    "# Train/test split (90/10 split)\n",
    "X_train, X_test, y_train, y_test = train_test_split(X, y, test_size = 0.1, random_state=42)"
   ]
  },
  {
   "cell_type": "code",
   "execution_count": 13,
   "metadata": {},
   "outputs": [
    {
     "name": "stderr",
     "output_type": "stream",
     "text": [
      "/anaconda3/lib/python3.6/site-packages/sklearn/preprocessing/data.py:645: DataConversionWarning: Data with input dtype int64, float64 were all converted to float64 by StandardScaler.\n",
      "  return self.partial_fit(X, y)\n",
      "/anaconda3/lib/python3.6/site-packages/ipykernel_launcher.py:4: DataConversionWarning: Data with input dtype int64, float64 were all converted to float64 by StandardScaler.\n",
      "  after removing the cwd from sys.path.\n",
      "/anaconda3/lib/python3.6/site-packages/ipykernel_launcher.py:5: DataConversionWarning: Data with input dtype int64, float64 were all converted to float64 by StandardScaler.\n",
      "  \"\"\"\n"
     ]
    }
   ],
   "source": [
    "# Scaling\n",
    "ss = StandardScaler()\n",
    "ss.fit(X_train)\n",
    "X_train_s = ss.transform(X_train)\n",
    "X_test_s = ss.transform(X_test)"
   ]
  },
  {
   "cell_type": "code",
   "execution_count": 14,
   "metadata": {},
   "outputs": [],
   "source": [
    "# Instantiate models\n",
    "lr = LinearRegression()\n",
    "lasso = LassoCV(n_alphas=200)\n",
    "ridge = RidgeCV(alphas=np.linspace(.1, 10, 100))"
   ]
  },
  {
   "cell_type": "code",
   "execution_count": 15,
   "metadata": {},
   "outputs": [
    {
     "name": "stdout",
     "output_type": "stream",
     "text": [
      "LR Score:  0.9136501542624769\n"
     ]
    },
    {
     "name": "stderr",
     "output_type": "stream",
     "text": [
      "/anaconda3/lib/python3.6/site-packages/sklearn/model_selection/_split.py:2053: FutureWarning: You should specify a value for 'cv' instead of relying on the default value. The default value will change from 3 to 5 in version 0.22.\n",
      "  warnings.warn(CV_WARNING, FutureWarning)\n",
      "/anaconda3/lib/python3.6/site-packages/sklearn/model_selection/_split.py:2053: FutureWarning: You should specify a value for 'cv' instead of relying on the default value. The default value will change from 3 to 5 in version 0.22.\n",
      "  warnings.warn(CV_WARNING, FutureWarning)\n",
      "/anaconda3/lib/python3.6/site-packages/sklearn/model_selection/_split.py:2053: FutureWarning: You should specify a value for 'cv' instead of relying on the default value. The default value will change from 3 to 5 in version 0.22.\n",
      "  warnings.warn(CV_WARNING, FutureWarning)\n",
      "/anaconda3/lib/python3.6/site-packages/sklearn/model_selection/_split.py:2053: FutureWarning: You should specify a value for 'cv' instead of relying on the default value. The default value will change from 3 to 5 in version 0.22.\n",
      "  warnings.warn(CV_WARNING, FutureWarning)\n",
      "/anaconda3/lib/python3.6/site-packages/sklearn/model_selection/_split.py:2053: FutureWarning: You should specify a value for 'cv' instead of relying on the default value. The default value will change from 3 to 5 in version 0.22.\n",
      "  warnings.warn(CV_WARNING, FutureWarning)\n"
     ]
    },
    {
     "name": "stdout",
     "output_type": "stream",
     "text": [
      "Lasso Score:  0.9143270998011921\n",
      "Ridge Score:  0.9138030222019571\n"
     ]
    }
   ],
   "source": [
    "# Cross Validation\n",
    "print('LR Score: ', cross_val_score(lr, X_train_s, y_train, cv=5).mean())\n",
    "print('Lasso Score: ', cross_val_score(lasso, X_train_s, y_train, cv=5).mean())\n",
    "print('Ridge Score: ', cross_val_score(ridge, X_train_s, y_train, cv=5).mean())"
   ]
  },
  {
   "cell_type": "code",
   "execution_count": 16,
   "metadata": {},
   "outputs": [
    {
     "name": "stderr",
     "output_type": "stream",
     "text": [
      "/anaconda3/lib/python3.6/site-packages/sklearn/model_selection/_split.py:2053: FutureWarning: You should specify a value for 'cv' instead of relying on the default value. The default value will change from 3 to 5 in version 0.22.\n",
      "  warnings.warn(CV_WARNING, FutureWarning)\n"
     ]
    },
    {
     "data": {
      "text/plain": [
       "LassoCV(alphas=None, copy_X=True, cv='warn', eps=0.001, fit_intercept=True,\n",
       "    max_iter=1000, n_alphas=200, n_jobs=None, normalize=False,\n",
       "    positive=False, precompute='auto', random_state=None,\n",
       "    selection='cyclic', tol=0.0001, verbose=False)"
      ]
     },
     "execution_count": 16,
     "metadata": {},
     "output_type": "execute_result"
    }
   ],
   "source": [
    "# Proceed with lasso...want to see what features it gets rid of\n",
    "\n",
    "# Fit the model\n",
    "lasso.fit(X_train_s, y_train)"
   ]
  },
  {
   "cell_type": "code",
   "execution_count": 17,
   "metadata": {},
   "outputs": [
    {
     "name": "stdout",
     "output_type": "stream",
     "text": [
      "Train Score:  0.9242854783660992\n",
      "Test Score:  0.9435443524463655\n"
     ]
    },
    {
     "name": "stderr",
     "output_type": "stream",
     "text": [
      "/anaconda3/lib/python3.6/site-packages/sklearn/model_selection/_split.py:2053: FutureWarning: You should specify a value for 'cv' instead of relying on the default value. The default value will change from 3 to 5 in version 0.22.\n",
      "  warnings.warn(CV_WARNING, FutureWarning)\n",
      "/anaconda3/lib/python3.6/site-packages/sklearn/model_selection/_split.py:2053: FutureWarning: You should specify a value for 'cv' instead of relying on the default value. The default value will change from 3 to 5 in version 0.22.\n",
      "  warnings.warn(CV_WARNING, FutureWarning)\n",
      "/anaconda3/lib/python3.6/site-packages/sklearn/model_selection/_split.py:2053: FutureWarning: You should specify a value for 'cv' instead of relying on the default value. The default value will change from 3 to 5 in version 0.22.\n",
      "  warnings.warn(CV_WARNING, FutureWarning)\n",
      "/anaconda3/lib/python3.6/site-packages/sklearn/model_selection/_split.py:2053: FutureWarning: You should specify a value for 'cv' instead of relying on the default value. The default value will change from 3 to 5 in version 0.22.\n",
      "  warnings.warn(CV_WARNING, FutureWarning)\n"
     ]
    },
    {
     "name": "stdout",
     "output_type": "stream",
     "text": [
      "CV Score:  0.9143270998011921\n"
     ]
    },
    {
     "name": "stderr",
     "output_type": "stream",
     "text": [
      "/anaconda3/lib/python3.6/site-packages/sklearn/model_selection/_split.py:2053: FutureWarning: You should specify a value for 'cv' instead of relying on the default value. The default value will change from 3 to 5 in version 0.22.\n",
      "  warnings.warn(CV_WARNING, FutureWarning)\n"
     ]
    }
   ],
   "source": [
    "# Score the model\n",
    "print('Train Score: ', lasso.score(X_train_s, y_train))\n",
    "print('Test Score: ', lasso.score(X_test_s, y_test))\n",
    "print('CV Score: ', cross_val_score(lasso, X_train_s, y_train, cv=5).mean())"
   ]
  },
  {
   "cell_type": "code",
   "execution_count": 18,
   "metadata": {},
   "outputs": [],
   "source": [
    "# Make predictions\n",
    "y_hat = lasso.predict(X_test_s)"
   ]
  },
  {
   "cell_type": "code",
   "execution_count": 19,
   "metadata": {},
   "outputs": [
    {
     "name": "stdout",
     "output_type": "stream",
     "text": [
      "RMSE:  21494.321843776488\n",
      "r2:  0.9435443524463655\n"
     ]
    }
   ],
   "source": [
    "print('RMSE: ', np.sqrt(mean_squared_error(y_test, y_hat)))\n",
    "print('r2: ', r2_score(y_test, y_hat))"
   ]
  },
  {
   "cell_type": "code",
   "execution_count": 20,
   "metadata": {},
   "outputs": [
    {
     "name": "stdout",
     "output_type": "stream",
     "text": [
      "Total Quality * Above Ground SF : 86291.62819529334\n",
      "Total Quality : -2548.29041080467\n",
      "Above Ground SF : -35421.39886429794\n",
      "Exter Qual : -2660.456347726024\n",
      "Neighborhood Quality : 4772.096659120682\n",
      "Kitchen Qual : -2345.6439034233335\n",
      "Garage Area : 3387.0315969244234\n",
      "Bsmt Qual : -7845.789285476185\n",
      "Year Remod/Add : 4263.9453696129885\n",
      "Fireplace Qu : 2235.2899890487756\n",
      "Finished Basement : 16308.833542585702\n",
      "Mas Vnr Area : 2923.558878955003\n",
      "Fireplaces : 1977.4164988478935\n",
      "Heating QC : 1999.9260073829757\n",
      "Neighborhood_NridgHt : 2111.905036667896\n",
      "Mas Vnr Type_None : 2361.853539742268\n",
      "Bsmt Exposure_Gd : 3881.8021361315637\n",
      "MS SubClass_60 : -1986.953673073786\n",
      "Garage Type_Attchd : 1541.8017069008888\n",
      "Sale Type_New : 4158.241504592964\n",
      "Lot Area : 5106.60870915758\n",
      "BsmtFin Type 1 : -3378.160774439053\n",
      "Mas Vnr Type_Stone : 2443.786507428797\n",
      "Paved Drive_Y : 1559.3928823353012\n",
      "Central Air : 1610.043307787338\n",
      "Roof Style_Hip : 4113.987692888241\n",
      "Neighborhood_StoneBr : 2720.078585655833\n",
      "Roof Style_Gable : 2601.7192623718634\n",
      "Bsmt Unf SF : 6152.614342025502\n",
      "Finished Bsmt YN : 2670.013825096816\n"
     ]
    }
   ],
   "source": [
    "[print(col, \":\",  value) for col, value in zip(features, lasso.coef_)  if abs(value) > 1500];"
   ]
  },
  {
   "cell_type": "code",
   "execution_count": 21,
   "metadata": {},
   "outputs": [
    {
     "data": {
      "image/png": "[encoded data removed]",
      "text/plain": [
       "<Figure size 1080x504 with 1 Axes>"
      ]
     },
     "metadata": {
      "needs_background": "light"
     },
     "output_type": "display_data"
    }
   ],
   "source": [
    "# Reference: code adapted from Riley Dallas's lesson on model workflow\n",
    "pd.Series(lasso.coef_, index=features).plot.bar(figsize=(15, 7));"
   ]
  },
  {
   "cell_type": "markdown",
   "metadata": {},
   "source": [
    "Observations:\n",
    "- Some of the negative values may be due to multicolinearity: Total Quality and Above Ground SF, Garage Cars"
   ]
  },
  {
   "cell_type": "code",
   "execution_count": 22,
   "metadata": {},
   "outputs": [
    {
     "data": {
      "image/png": "[encoded data removed]",
      "text/plain": [
       "<Figure size 1080x216 with 1 Axes>"
      ]
     },
     "metadata": {
      "needs_background": "light"
     },
     "output_type": "display_data"
    }
   ],
   "source": [
    "# Plot residuals\n",
    "plt.figure(figsize=(15,3))\n",
    "sns.distplot(y_test - y_hat, bins=30)\n",
    "plt.title('Residuals for Model with all Features')\n",
    "plt.xlabel('Residuals');"
   ]
  },
  {
   "cell_type": "markdown",
   "metadata": {},
   "source": [
    "Observations:\n",
    "- Residuals are relatively normally distributed\n",
    "- There are some to the left "
   ]
  },
  {
   "cell_type": "markdown",
   "metadata": {},
   "source": [
    "### Model Adjustments - Explainable Model\n",
    "***"
   ]
  },
  {
   "cell_type": "code",
   "execution_count": 23,
   "metadata": {},
   "outputs": [],
   "source": [
    "# Pick just a few features I believe to be important based on lasso\n",
    " \n",
    "features = ['Total Quality * Above Ground SF',\n",
    "            'Neighborhood Quality',\n",
    "            'Garage Area',\n",
    "            'Finished Basement',\n",
    "            'Year Remod/Add',\n",
    "            'Mas Vnr Area',\n",
    "            'Fireplaces',\n",
    "            'Heating QC',\n",
    "            'Bsmt Exposure_Gd',\n",
    "            'Sale Type_New',\n",
    "            'Lot Area',\n",
    "            'Bsmt Unf SF']"
   ]
  },
  {
   "cell_type": "code",
   "execution_count": 24,
   "metadata": {},
   "outputs": [
    {
     "name": "stderr",
     "output_type": "stream",
     "text": [
      "/anaconda3/lib/python3.6/site-packages/sklearn/preprocessing/data.py:645: DataConversionWarning: Data with input dtype int64, float64 were all converted to float64 by StandardScaler.\n",
      "  return self.partial_fit(X, y)\n",
      "/anaconda3/lib/python3.6/site-packages/ipykernel_launcher.py:12: DataConversionWarning: Data with input dtype int64, float64 were all converted to float64 by StandardScaler.\n",
      "  if sys.path[0] == '':\n",
      "/anaconda3/lib/python3.6/site-packages/ipykernel_launcher.py:13: DataConversionWarning: Data with input dtype int64, float64 were all converted to float64 by StandardScaler.\n",
      "  del sys.path[0]\n",
      "/anaconda3/lib/python3.6/site-packages/sklearn/model_selection/_split.py:2053: FutureWarning: You should specify a value for 'cv' instead of relying on the default value. The default value will change from 3 to 5 in version 0.22.\n",
      "  warnings.warn(CV_WARNING, FutureWarning)\n",
      "/anaconda3/lib/python3.6/site-packages/sklearn/model_selection/_split.py:2053: FutureWarning: You should specify a value for 'cv' instead of relying on the default value. The default value will change from 3 to 5 in version 0.22.\n",
      "  warnings.warn(CV_WARNING, FutureWarning)\n",
      "/anaconda3/lib/python3.6/site-packages/sklearn/model_selection/_split.py:2053: FutureWarning: You should specify a value for 'cv' instead of relying on the default value. The default value will change from 3 to 5 in version 0.22.\n",
      "  warnings.warn(CV_WARNING, FutureWarning)\n",
      "/anaconda3/lib/python3.6/site-packages/sklearn/model_selection/_split.py:2053: FutureWarning: You should specify a value for 'cv' instead of relying on the default value. The default value will change from 3 to 5 in version 0.22.\n",
      "  warnings.warn(CV_WARNING, FutureWarning)\n"
     ]
    },
    {
     "name": "stdout",
     "output_type": "stream",
     "text": [
      "LR Score:  0.8976023281547943\n",
      "Lasso Score:  0.8976299357705624\n",
      "Ridge Score:  0.8975839707588872\n"
     ]
    },
    {
     "name": "stderr",
     "output_type": "stream",
     "text": [
      "/anaconda3/lib/python3.6/site-packages/sklearn/model_selection/_split.py:2053: FutureWarning: You should specify a value for 'cv' instead of relying on the default value. The default value will change from 3 to 5 in version 0.22.\n",
      "  warnings.warn(CV_WARNING, FutureWarning)\n"
     ]
    }
   ],
   "source": [
    "# Score with these features\n",
    "# Create X and y variables\n",
    "X = train[features]\n",
    "y = train['SalePrice']\n",
    "\n",
    "# Train/test split (90/10 split)\n",
    "X_train, X_test, y_train, y_test = train_test_split(X, y, test_size = 0.1, random_state=42)\n",
    "\n",
    "# Scaling\n",
    "ss = StandardScaler()\n",
    "ss.fit(X_train)\n",
    "X_train_s = ss.transform(X_train)\n",
    "X_test_s = ss.transform(X_test)\n",
    "\n",
    "# Instantiate models\n",
    "lr = LinearRegression()\n",
    "lasso = LassoCV(n_alphas=200)\n",
    "ridge = RidgeCV(alphas=np.linspace(.1, 10, 100))\n",
    "\n",
    "# Cross Validation\n",
    "print('LR Score: ', cross_val_score(lr, X_train_s, y_train, cv=5).mean())\n",
    "print('Lasso Score: ', cross_val_score(lasso, X_train_s, y_train, cv=5).mean())\n",
    "print('Ridge Score: ', cross_val_score(ridge, X_train_s, y_train, cv=5).mean())"
   ]
  },
  {
   "cell_type": "code",
   "execution_count": 25,
   "metadata": {},
   "outputs": [],
   "source": [
    "oldR2 = cross_val_score(lr, X_train_s, y_train, cv=5).mean()"
   ]
  },
  {
   "cell_type": "code",
   "execution_count": 26,
   "metadata": {},
   "outputs": [
    {
     "name": "stderr",
     "output_type": "stream",
     "text": [
      "/anaconda3/lib/python3.6/site-packages/sklearn/preprocessing/data.py:645: DataConversionWarning: Data with input dtype int64, float64 were all converted to float64 by StandardScaler.\n",
      "  return self.partial_fit(X, y)\n",
      "/anaconda3/lib/python3.6/site-packages/ipykernel_launcher.py:25: DataConversionWarning: Data with input dtype int64, float64 were all converted to float64 by StandardScaler.\n",
      "/anaconda3/lib/python3.6/site-packages/ipykernel_launcher.py:26: DataConversionWarning: Data with input dtype int64, float64 were all converted to float64 by StandardScaler.\n",
      "/anaconda3/lib/python3.6/site-packages/sklearn/preprocessing/data.py:645: DataConversionWarning: Data with input dtype int64, float64 were all converted to float64 by StandardScaler.\n",
      "  return self.partial_fit(X, y)\n",
      "/anaconda3/lib/python3.6/site-packages/ipykernel_launcher.py:25: DataConversionWarning: Data with input dtype int64, float64 were all converted to float64 by StandardScaler.\n",
      "/anaconda3/lib/python3.6/site-packages/ipykernel_launcher.py:26: DataConversionWarning: Data with input dtype int64, float64 were all converted to float64 by StandardScaler.\n",
      "/anaconda3/lib/python3.6/site-packages/sklearn/preprocessing/data.py:645: DataConversionWarning: Data with input dtype int64, float64 were all converted to float64 by StandardScaler.\n",
      "  return self.partial_fit(X, y)\n"
     ]
    },
    {
     "name": "stdout",
     "output_type": "stream",
     "text": [
      "Baths : 0.00011037638135980021\n"
     ]
    },
    {
     "name": "stderr",
     "output_type": "stream",
     "text": [
      "/anaconda3/lib/python3.6/site-packages/ipykernel_launcher.py:25: DataConversionWarning: Data with input dtype int64, float64 were all converted to float64 by StandardScaler.\n",
      "/anaconda3/lib/python3.6/site-packages/ipykernel_launcher.py:26: DataConversionWarning: Data with input dtype int64, float64 were all converted to float64 by StandardScaler.\n",
      "/anaconda3/lib/python3.6/site-packages/sklearn/preprocessing/data.py:645: DataConversionWarning: Data with input dtype int64, float64 were all converted to float64 by StandardScaler.\n",
      "  return self.partial_fit(X, y)\n",
      "/anaconda3/lib/python3.6/site-packages/ipykernel_launcher.py:25: DataConversionWarning: Data with input dtype int64, float64 were all converted to float64 by StandardScaler.\n",
      "/anaconda3/lib/python3.6/site-packages/ipykernel_launcher.py:26: DataConversionWarning: Data with input dtype int64, float64 were all converted to float64 by StandardScaler.\n",
      "/anaconda3/lib/python3.6/site-packages/sklearn/preprocessing/data.py:645: DataConversionWarning: Data with input dtype int64, float64 were all converted to float64 by StandardScaler.\n",
      "  return self.partial_fit(X, y)\n",
      "/anaconda3/lib/python3.6/site-packages/ipykernel_launcher.py:25: DataConversionWarning: Data with input dtype int64, float64 were all converted to float64 by StandardScaler.\n",
      "/anaconda3/lib/python3.6/site-packages/ipykernel_launcher.py:26: DataConversionWarning: Data with input dtype int64, float64 were all converted to float64 by StandardScaler.\n",
      "/anaconda3/lib/python3.6/site-packages/sklearn/preprocessing/data.py:645: DataConversionWarning: Data with input dtype int64, float64 were all converted to float64 by StandardScaler.\n",
      "  return self.partial_fit(X, y)\n",
      "/anaconda3/lib/python3.6/site-packages/ipykernel_launcher.py:25: DataConversionWarning: Data with input dtype int64, float64 were all converted to float64 by StandardScaler.\n",
      "/anaconda3/lib/python3.6/site-packages/ipykernel_launcher.py:26: DataConversionWarning: Data with input dtype int64, float64 were all converted to float64 by StandardScaler.\n",
      "/anaconda3/lib/python3.6/site-packages/sklearn/preprocessing/data.py:645: DataConversionWarning: Data with input dtype int64, float64 were all converted to float64 by StandardScaler.\n",
      "  return self.partial_fit(X, y)\n",
      "/anaconda3/lib/python3.6/site-packages/ipykernel_launcher.py:25: DataConversionWarning: Data with input dtype int64, float64 were all converted to float64 by StandardScaler.\n",
      "/anaconda3/lib/python3.6/site-packages/ipykernel_launcher.py:26: DataConversionWarning: Data with input dtype int64, float64 were all converted to float64 by StandardScaler.\n",
      "/anaconda3/lib/python3.6/site-packages/sklearn/preprocessing/data.py:645: DataConversionWarning: Data with input dtype int64, float64 were all converted to float64 by StandardScaler.\n",
      "  return self.partial_fit(X, y)\n",
      "/anaconda3/lib/python3.6/site-packages/ipykernel_launcher.py:25: DataConversionWarning: Data with input dtype int64, float64 were all converted to float64 by StandardScaler.\n",
      "/anaconda3/lib/python3.6/site-packages/ipykernel_launcher.py:26: DataConversionWarning: Data with input dtype int64, float64 were all converted to float64 by StandardScaler.\n",
      "/anaconda3/lib/python3.6/site-packages/sklearn/preprocessing/data.py:645: DataConversionWarning: Data with input dtype int64, float64 were all converted to float64 by StandardScaler.\n",
      "  return self.partial_fit(X, y)\n",
      "/anaconda3/lib/python3.6/site-packages/ipykernel_launcher.py:25: DataConversionWarning: Data with input dtype int64, float64 were all converted to float64 by StandardScaler.\n",
      "/anaconda3/lib/python3.6/site-packages/ipykernel_launcher.py:26: DataConversionWarning: Data with input dtype int64, float64 were all converted to float64 by StandardScaler.\n"
     ]
    }
   ],
   "source": [
    "# Try to see if any additional features add to my r2 score\n",
    "for x in ['Garage Type_Attchd', 'MS Zoning_RM', 'Central Air', 'Roof Style_Hip', 'Roof Style_Gable', 'Baths', 'Home Age',\n",
    "            'Bedroom AbvGr', 'Outdoor SF']:\n",
    "     \n",
    "    features = ['Total Quality * Above Ground SF',\n",
    "                'Neighborhood Quality',\n",
    "                'Finished Basement',\n",
    "                'Year Remod/Add',\n",
    "                'Mas Vnr Area',\n",
    "                'Fireplaces',\n",
    "                'Heating QC',\n",
    "                'Bsmt Exposure_Gd',\n",
    "                'Sale Type_New',\n",
    "                'Lot Area',\n",
    "                'Bsmt Unf SF', \n",
    "                x]\n",
    "    \n",
    "    X = train[features]\n",
    "    y = train['SalePrice']\n",
    "\n",
    "    X_train, X_test, y_train, y_test = train_test_split(X, y, test_size = 0.1, random_state=42)\n",
    "\n",
    "    ss = StandardScaler()\n",
    "    ss.fit(X_train)\n",
    "    X_train_s = ss.transform(X_train)\n",
    "    X_test_s = ss.transform(X_test)\n",
    "\n",
    "    lr = LinearRegression()\n",
    "    newR2 = cross_val_score(lr, X_train_s, y_train, cv=5).mean()\n",
    "    \n",
    "    if newR2 > oldR2:\n",
    "        print(x,':', newR2-oldR2)"
   ]
  },
  {
   "cell_type": "markdown",
   "metadata": {},
   "source": [
    "Observation: none of these new variables appear to add enough to be influential. I will leave my model as is or even remove features"
   ]
  },
  {
   "cell_type": "markdown",
   "metadata": {},
   "source": [
    "### Production Model\n",
    "***"
   ]
  },
  {
   "cell_type": "code",
   "execution_count": 27,
   "metadata": {},
   "outputs": [],
   "source": [
    "# Try a model with even less features - as the fist two features alone get a score of 0.88\n",
    "features = ['Total Quality * Above Ground SF',\n",
    "            'Neighborhood Quality',\n",
    "            'Garage Area',\n",
    "            'Finished Basement',\n",
    "            'Lot Area',\n",
    "            'Bsmt Unf SF', \n",
    "            'Sale Type_New']"
   ]
  },
  {
   "cell_type": "code",
   "execution_count": 28,
   "metadata": {},
   "outputs": [
    {
     "name": "stderr",
     "output_type": "stream",
     "text": [
      "/anaconda3/lib/python3.6/site-packages/sklearn/preprocessing/data.py:645: DataConversionWarning: Data with input dtype int64, float64 were all converted to float64 by StandardScaler.\n",
      "  return self.partial_fit(X, y)\n",
      "/anaconda3/lib/python3.6/site-packages/ipykernel_launcher.py:11: DataConversionWarning: Data with input dtype int64, float64 were all converted to float64 by StandardScaler.\n",
      "  # This is added back by InteractiveShellApp.init_path()\n",
      "/anaconda3/lib/python3.6/site-packages/ipykernel_launcher.py:12: DataConversionWarning: Data with input dtype int64, float64 were all converted to float64 by StandardScaler.\n",
      "  if sys.path[0] == '':\n",
      "/anaconda3/lib/python3.6/site-packages/sklearn/model_selection/_split.py:2053: FutureWarning: You should specify a value for 'cv' instead of relying on the default value. The default value will change from 3 to 5 in version 0.22.\n",
      "  warnings.warn(CV_WARNING, FutureWarning)\n",
      "/anaconda3/lib/python3.6/site-packages/sklearn/model_selection/_split.py:2053: FutureWarning: You should specify a value for 'cv' instead of relying on the default value. The default value will change from 3 to 5 in version 0.22.\n",
      "  warnings.warn(CV_WARNING, FutureWarning)\n"
     ]
    },
    {
     "name": "stdout",
     "output_type": "stream",
     "text": [
      "LR Score:  0.886567628540068\n"
     ]
    },
    {
     "name": "stderr",
     "output_type": "stream",
     "text": [
      "/anaconda3/lib/python3.6/site-packages/sklearn/model_selection/_split.py:2053: FutureWarning: You should specify a value for 'cv' instead of relying on the default value. The default value will change from 3 to 5 in version 0.22.\n",
      "  warnings.warn(CV_WARNING, FutureWarning)\n",
      "/anaconda3/lib/python3.6/site-packages/sklearn/model_selection/_split.py:2053: FutureWarning: You should specify a value for 'cv' instead of relying on the default value. The default value will change from 3 to 5 in version 0.22.\n",
      "  warnings.warn(CV_WARNING, FutureWarning)\n",
      "/anaconda3/lib/python3.6/site-packages/sklearn/model_selection/_split.py:2053: FutureWarning: You should specify a value for 'cv' instead of relying on the default value. The default value will change from 3 to 5 in version 0.22.\n",
      "  warnings.warn(CV_WARNING, FutureWarning)\n"
     ]
    },
    {
     "name": "stdout",
     "output_type": "stream",
     "text": [
      "Lasso Score:  0.8865587934154927\n",
      "Ridge Score:  0.8865579596709511\n"
     ]
    }
   ],
   "source": [
    "# Create X and y variables\n",
    "X = train[features]\n",
    "y = train['SalePrice']\n",
    "\n",
    "# Train/test split (90/10 split)\n",
    "X_train, X_test, y_train, y_test = train_test_split(X, y, test_size = 0.2, random_state=42)\n",
    "\n",
    "# Scaling\n",
    "ss = StandardScaler()\n",
    "ss.fit(X_train)\n",
    "X_train_s = ss.transform(X_train)\n",
    "X_test_s = ss.transform(X_test)\n",
    "\n",
    "# Instantiate models\n",
    "lr = LinearRegression()\n",
    "lasso = LassoCV(n_alphas=200)\n",
    "ridge = RidgeCV(alphas=np.linspace(.1, 10, 100))\n",
    "\n",
    "# Cross Validation\n",
    "print('LR Score: ', cross_val_score(lr, X_train_s, y_train, cv=5).mean())\n",
    "print('Lasso Score: ', cross_val_score(lasso, X_train_s, y_train, cv=5).mean())\n",
    "print('Ridge Score: ', cross_val_score(ridge, X_train_s, y_train, cv=5).mean())"
   ]
  },
  {
   "cell_type": "code",
   "execution_count": 29,
   "metadata": {},
   "outputs": [
    {
     "name": "stdout",
     "output_type": "stream",
     "text": [
      "Train Score:  0.8899724427845495\n",
      "Test Score:  0.9149673825767395\n",
      "CV Score:  0.8865579596709511\n",
      "RMSE:  24483.032621722294\n",
      "r2:  0.9149673825767395\n"
     ]
    }
   ],
   "source": [
    "# Proceed with ridge to look at coefficients (slighly highest score)\n",
    "\n",
    "# Fit the model\n",
    "ridge.fit(X_train_s, y_train)\n",
    "\n",
    "# Score the model\n",
    "print('Train Score: ', ridge.score(X_train_s, y_train))\n",
    "print('Test Score: ', ridge.score(X_test_s, y_test))\n",
    "print('CV Score: ', cross_val_score(ridge, X_train_s, y_train, cv=5).mean())\n",
    "\n",
    "# Make predictions\n",
    "y_hat = ridge.predict(X_test_s)\n",
    "\n",
    "print('RMSE: ', np.sqrt(mean_squared_error(y_test, y_hat)))\n",
    "print('r2: ', r2_score(y_test, y_hat))"
   ]
  },
  {
   "cell_type": "code",
   "execution_count": 30,
   "metadata": {},
   "outputs": [
    {
     "name": "stdout",
     "output_type": "stream",
     "text": [
      "Total Quality * Above Ground SF : 45136.86829499045\n",
      "Neighborhood Quality : 9951.454775375634\n",
      "Garage Area : 5674.499735077319\n",
      "Finished Basement : 23547.5716130512\n",
      "Lot Area : 4965.668094761029\n",
      "Bsmt Unf SF : 8926.784287299437\n",
      "Sale Type_New : 7533.301911918446\n"
     ]
    }
   ],
   "source": [
    "[print(col, \":\",  value) for col, value in zip(features, ridge.coef_)];"
   ]
  },
  {
   "cell_type": "code",
   "execution_count": 31,
   "metadata": {},
   "outputs": [
    {
     "data": {
      "image/png": "[encoded data removed]",
      "text/plain": [
       "<Figure size 1080x504 with 1 Axes>"
      ]
     },
     "metadata": {
      "needs_background": "light"
     },
     "output_type": "display_data"
    }
   ],
   "source": [
    "# Reference: code adapted from Riley Dallas's lesson on model workflow\n",
    "fig = plt.figure()\n",
    "pd.Series(ridge.coef_, index=features).plot.barh(figsize=(15, 7));\n",
    "plt.title('Model Coefficients');"
   ]
  },
  {
   "cell_type": "code",
   "execution_count": 32,
   "metadata": {},
   "outputs": [],
   "source": [
    "fig.savefig('../images/coefficients.png')"
   ]
  },
  {
   "cell_type": "code",
   "execution_count": 33,
   "metadata": {},
   "outputs": [
    {
     "data": {
      "image/png": "[encoded data removed]",
      "text/plain": [
       "<Figure size 1080x216 with 1 Axes>"
      ]
     },
     "metadata": {
      "needs_background": "light"
     },
     "output_type": "display_data"
    }
   ],
   "source": [
    "# Plot residuals\n",
    "plt.figure(figsize=(15,3))\n",
    "sns.distplot(y_test - y_hat)\n",
    "plt.title('Residuals for Model with Limited Features)')\n",
    "plt.xlabel('Residuals');"
   ]
  },
  {
   "cell_type": "markdown",
   "metadata": {},
   "source": [
    "Observation: residuals are relatively normally distributed and around 0 with most falling between -50,000 and 50,000. There are some outliers to the right."
   ]
  },
  {
   "cell_type": "code",
   "execution_count": 34,
   "metadata": {},
   "outputs": [
    {
     "data": {
      "image/png": "[encoded data removed]",
      "text/plain": [
       "<Figure size 1080x576 with 1 Axes>"
      ]
     },
     "metadata": {
      "needs_background": "light"
     },
     "output_type": "display_data"
    }
   ],
   "source": [
    "# Plot y vs. y_hat\n",
    "fig = plt.figure(figsize=(15,8))\n",
    "plt.scatter(y_test, y_hat, c = 'r');\n",
    "plt.title('Actual vs. Predicted Sale Price')\n",
    "plt.plot()\n",
    "plt.xlabel('Actual Price');\n",
    "plt.ylabel('Predicted Price')\n",
    "\n",
    "# Reference: class notes on linear regression from Matt Brems\n",
    "plt.plot([0, np.max(y_hat)], [0, np.max(y_hat)], c = 'k');"
   ]
  },
  {
   "cell_type": "code",
   "execution_count": 35,
   "metadata": {},
   "outputs": [],
   "source": [
    "fig.savefig('../images/scatter.png')"
   ]
  },
  {
   "cell_type": "code",
   "execution_count": 36,
   "metadata": {},
   "outputs": [
    {
     "name": "stdout",
     "output_type": "stream",
     "text": [
      "Train Score:  0.8728855036825847\n",
      "Test Score:  0.8872935579724176\n",
      "CV Score:  0.8717093309126586\n",
      "RMSE:  25373.13708707803\n",
      "r2:  0.9213301666764515\n"
     ]
    }
   ],
   "source": [
    "# Power Transformer\n",
    "\n",
    "# Create X and y variables\n",
    "X = train[features]\n",
    "y = train['SalePrice']\n",
    "\n",
    "# Train/test split (90/10 split)\n",
    "X_train, X_test, y_train, y_test = train_test_split(X, y, test_size = 0.1, random_state=42)\n",
    "\n",
    "\n",
    "pt = PowerTransformer()\n",
    "pt.fit(X_train)\n",
    "X_train_pt = pt.transform(X_train)\n",
    "X_test_pt = pt.transform(X_test)\n",
    "\n",
    "\n",
    "\n",
    "pt_y = PowerTransformer()\n",
    "# PowerTransformer requires a matrix/DataFrame, which is why we're using the .to_frame() method on y_train\n",
    "pt_y.fit(y_train.to_frame()) \n",
    "y_train_pt = pt_y.transform(y_train.to_frame())\n",
    "y_test_pt = pt_y.transform(y_test.to_frame())\n",
    "\n",
    "# Fit the model\n",
    "ridge.fit(X_train_pt, y_train_pt)\n",
    "\n",
    "# Score the model\n",
    "print('Train Score: ', ridge.score(X_train_pt, y_train_pt))\n",
    "print('Test Score: ', ridge.score(X_test_pt, y_test_pt))\n",
    "print('CV Score: ', cross_val_score(ridge, X_train_pt, y_train_pt, cv=5).mean())\n",
    "\n",
    "# Make predictions\n",
    "pred = ridge.predict(X_test_pt)\n",
    "y_hat = pt_y.inverse_transform(pred.reshape(-1,1))\n",
    "#y_hat = ridge.predict(X_test_s)\n",
    "\n",
    "print('RMSE: ', np.sqrt(mean_squared_error(y_test, y_hat)))\n",
    "print('r2: ', r2_score(y_test, y_hat))"
   ]
  },
  {
   "cell_type": "markdown",
   "metadata": {},
   "source": [
    "Observation: best r2 yet"
   ]
  },
  {
   "cell_type": "markdown",
   "metadata": {},
   "source": [
    "### Model Insights\n",
    "***"
   ]
  },
  {
   "cell_type": "markdown",
   "metadata": {},
   "source": [
    "* Which features appear to add the most value to a home?\n",
    "   -  The features that are most important are Neighborhood (location), Above Ground SF (size), and Total Quality (quality)...these all make sense\n",
    "* Which features hurt the value of a home the most?\n",
    "   - Features that hurt the value of a home are an enclosed porch\n",
    "* What are things that homeowners could improve in their homes to increase the value?\n",
    "   - One big thing homeowners could improve in their homes to increase value is finish their basements\n",
    "* What neighborhoods seem like they might be a good investment?\n",
    "   - The top 3 neighborhoods: StoneBr, NridgHt, NoRidge\n",
    "* Do you feel that this model will generalize to other cities? How * could you revise your model to make it more universal OR what date would you need from another city to make a comparable model?\n",
    "   - I don't think this model would do that great in other cities\n",
    "   - Real estate can differ greatly by city\n",
    "   - An important thing I would need to make it more comparable to other cities is neighborhood informaiton"
   ]
  }
 ],
 "metadata": {
  "kernelspec": {
   "display_name": "Python 3",
   "language": "python",
   "name": "python3"
  },
  "language_info": {
   "codemirror_mode": {
    "name": "ipython",
    "version": 3
   },
   "file_extension": ".py",
   "mimetype": "text/x-python",
   "name": "python",
   "nbconvert_exporter": "python",
   "pygments_lexer": "ipython3",
   "version": "3.6.8"
  }
 },
 "nbformat": 4,
 "nbformat_minor": 2
}
